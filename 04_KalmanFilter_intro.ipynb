{
 "cells": [
  {
   "cell_type": "code",
   "execution_count": 2,
   "id": "6b5cc983",
   "metadata": {},
   "outputs": [],
   "source": [
    "#https://aleksandarhaber.com/disciplined-kalman-filter-implementation-in-python-by-using-object-oriented-approach/"
   ]
  },
  {
   "cell_type": "code",
   "execution_count": 3,
   "id": "83c8f0b1",
   "metadata": {},
   "outputs": [],
   "source": [
    "import numpy as np\n",
    "import matplotlib.pyplot as plt"
   ]
  },
  {
   "cell_type": "markdown",
   "id": "c4e45822",
   "metadata": {},
   "source": [
    "Nejdříve zrekapitulujeme Kalmanův filtr. \n",
    "\n",
    "Dle následující ilustrace je možné vidět, že nejdříve provedeme propagaci dynamiky systému ze stavu a posteriori do stavu a priori. Dále provedeme měření a za pomocí recursive least square error vypočítame a nový state estimate a covariance matrix.\n",
    "<img src=\"Images/Kalman_fileter_ilustration.png\"  width = 600 height=300 />\n",
    "Toto je provedeno dle následujících rovnic. \n",
    "<img src=\"Images/Kalman_fileter_steps.png\"  width = 600 height=200 />"
   ]
  },
  {
   "cell_type": "markdown",
   "id": "54fc842e",
   "metadata": {},
   "source": [
    "<p>\n",
    "Existuje auto, která má svojí počáteční pozici. Pro naše účely se může pohybovat jen jedním směrem v prostoru, tedy nemůže zatáčet a nebereme v potaz ani reliéf terénu a pohyb nahoru, či dolu. Auto má počáteční rychlost pohybu. <b>Dalším atributem je zrychlení auta, které zůstává stejné po celou dobu. </b>\n",
    "</p>\n",
    "<img src=\"Images/car_moving.svg\"  width = 800 height=300 />"
   ]
  },
  {
   "cell_type": "markdown",
   "id": "ca5b04d3",
   "metadata": {},
   "source": [
    "Protože chceme modelovat reálný systém vytvoříme sady dat. První data je ideální, vypočítaná podle rovnice z kynetiky. Druhá sada dat vychází z první, ale obsahuje noise, který simuluje reálná měření. Budeme postupovat podle rovnice:\n",
    "<img src=\"Images/Kynetics.png\"  width = 200 height=300 />"
   ]
  },
  {
   "cell_type": "markdown",
   "id": "c7a7fc78",
   "metadata": {},
   "source": [
    "Chceme odhadnout parametry pozice (x, x1), rychlost (c,x2), zrychlení (a,x3) z měření. "
   ]
  },
  {
   "cell_type": "markdown",
   "id": "2c100ac5",
   "metadata": {},
   "source": [
    "Poslední rovnice, kterou potřebujeme je:\n",
    "<img src=\"Images/Kalman_fileter_state_forumla.png\"  width = 200 height=300 />"
   ]
  },
  {
   "cell_type": "code",
   "execution_count": 4,
   "id": "1d69a870",
   "metadata": {},
   "outputs": [],
   "source": [
    "class KalmanFilter(object):\n",
    "     \n",
    "    # x0 - initial guess of the state vector \n",
    "    # P0 - initial guess of the covariance matrix of the state estimation error\n",
    "    # A,B,C - system matrices describing the system model\n",
    "    # Q - covariance matrix of the process noise \n",
    "    # R - covariance matrix of the measurement noise\n",
    "     \n",
    "    def __init__(self,x0,P0,A,B,C,Q,R):\n",
    "         \n",
    "        # initialize vectors and matrices\n",
    "        self.x0=x0\n",
    "        self.P0=P0\n",
    "        self.A=A\n",
    "        self.B=B\n",
    "        self.C=C\n",
    "        self.Q=Q\n",
    "        self.R=R\n",
    "         \n",
    "        # this variable is used to track the current time step k of the estimator \n",
    "        # after every measurement arrives, this variables is incremented for +1 \n",
    "        self.currentTimeStep=0\n",
    "         \n",
    "        # this list is used to store the a posteriori estimates xk^{+} starting from the initial estimate \n",
    "        # note: list starts from x0^{+}=x0 - where x0 is an initial guess of the estimate\n",
    "        self.estimates_aposteriori=[]\n",
    "        self.estimates_aposteriori.append(x0)\n",
    "         \n",
    "        # this list is used to store the a apriori estimates xk^{-} starting from x1^{-}\n",
    "        # note: x0^{-} does not exist, that is, the list starts from x1^{-}\n",
    "        self.estimates_apriori=[]\n",
    "         \n",
    "        # this list is used to store the a posteriori estimation error covariance matrices Pk^{+}\n",
    "        # note: list starts from P0^{+}=P0, where P0 is the initial guess of the covariance\n",
    "        self.estimationErrorCovarianceMatricesAposteriori=[]\n",
    "        self.estimationErrorCovarianceMatricesAposteriori.append(P0)\n",
    "         \n",
    "        # this list is used to store the a priori estimation error covariance matrices Pk^{-}\n",
    "        # note: list starts from P1^{-}, that is, P0^{-} does not exist\n",
    "        self.estimationErrorCovarianceMatricesApriori=[]\n",
    "         \n",
    "        # this list is used to store the gain matrices Kk\n",
    "        self.gainMatrices=[]\n",
    "          \n",
    "        # this list is used to store prediction errors error_k=y_k-C*xk^{-}\n",
    "        self.errors=[]\n",
    "         \n",
    "    # this function propagates x_{k-1}^{+} through the model to compute x_{k}^{-}\n",
    "    # this function also propagates P_{k-1}^{+} through the covariance model to compute P_{k}^{-}\n",
    "    # at the end this function increments the time index currentTimeStep for +1\n",
    "    def propagateDynamics(self,inputValue):\n",
    "         \n",
    "        xk_minus=self.A*self.estimates_aposteriori[self.currentTimeStep]+self.B*inputValue\n",
    "        Pk_minus=self.A*self.estimationErrorCovarianceMatricesAposteriori[self.currentTimeStep]*(self.A.T)+self.Q\n",
    "         \n",
    "        self.estimates_apriori.append(xk_minus)\n",
    "        self.estimationErrorCovarianceMatricesApriori.append(Pk_minus)\n",
    "         \n",
    "        self.currentTimeStep=self.currentTimeStep+1\n",
    "     \n",
    "    # this function should be called after propagateDynamics() because the time step should be increased and states and covariances should be propagated         \n",
    "    def computeAposterioriEstimate(self,currentMeasurement):\n",
    "        import numpy as np\n",
    "        # gain matrix\n",
    "        Kk=self.estimationErrorCovarianceMatricesApriori[self.currentTimeStep-1]*(self.C.T)*np.linalg.inv(self.R+self.C*self.estimationErrorCovarianceMatricesApriori[self.currentTimeStep-1]*(self.C.T))\n",
    "         \n",
    "        # prediction error\n",
    "        error_k=currentMeasurement-self.C*self.estimates_apriori[self.currentTimeStep-1]\n",
    "        # a posteriori estimate\n",
    "        xk_plus=self.estimates_apriori[self.currentTimeStep-1]+Kk*error_k\n",
    "         \n",
    "        # a posteriori matrix update \n",
    "        IminusKkC=np.matrix(np.eye(self.x0.shape[0]))-Kk*self.C\n",
    "        Pk_plus=IminusKkC*self.estimationErrorCovarianceMatricesApriori[self.currentTimeStep-1]*(IminusKkC.T)+Kk*(self.R)*(Kk.T)\n",
    "         \n",
    "        # update the lists that store the vectors and matrices\n",
    "        self.gainMatrices.append(Kk)\n",
    "        self.errors.append(error_k)\n",
    "        self.estimates_aposteriori.append(xk_plus)\n",
    "        self.estimationErrorCovarianceMatricesAposteriori.append(Pk_plus)"
   ]
  },
  {
   "cell_type": "code",
   "execution_count": 5,
   "id": "c715e5b4",
   "metadata": {},
   "outputs": [],
   "source": [
    "# discretization step \n",
    "h=0.1\n",
    "# initial values for the simulation\n",
    "initialPosition=10\n",
    "initialVelocity=5\n",
    "# acceleration\n",
    "acceleration=0.5\n",
    "# measurement noise standard deviation\n",
    "noiseStd=1;\n",
    "# number of discretization time steps\n",
    "numberTimeSteps=100"
   ]
  },
  {
   "cell_type": "code",
   "execution_count": 6,
   "id": "0207b110",
   "metadata": {},
   "outputs": [],
   "source": [
    "# define the system matrices - Newtonian system\n",
    "# system matrices and covariances\n",
    "\n",
    "# Discretized matrix \n",
    "A=np.matrix([[1,h,0.5*(h**2)],[0, 1, h],[0,0,1]])\n",
    "# Its zero, because I dont have any external input\n",
    "B=np.matrix([[0],[0],[0]])\n",
    "# Position, velocity, acceleration... We measure only posisition\n",
    "C=np.matrix([[1,0,0]])\n",
    "\n",
    "# Measurement noise covariance matrix\n",
    "R=1*np.matrix([[1]])\n",
    "# Process noise covariance matrix\n",
    "Q=np.matrix(np.zeros((3,3)))\n",
    " \n",
    "#guess of the initial estimate\n",
    "x0=np.matrix([[0],[0],[0]])\n",
    "# initial covariance matrix \n",
    "P0=1*np.matrix(np.eye(3))"
   ]
  },
  {
   "cell_type": "code",
   "execution_count": 7,
   "id": "596fc607",
   "metadata": {},
   "outputs": [
    {
     "data": {
      "text/plain": [
       "matrix([[1.   , 0.1  , 0.005],\n",
       "        [0.   , 1.   , 0.1  ],\n",
       "        [0.   , 0.   , 1.   ]])"
      ]
     },
     "execution_count": 7,
     "metadata": {},
     "output_type": "execute_result"
    }
   ],
   "source": [
    "A"
   ]
  },
  {
   "cell_type": "code",
   "execution_count": 8,
   "id": "a55f7725",
   "metadata": {},
   "outputs": [
    {
     "data": {
      "text/plain": [
       "matrix([[0],\n",
       "        [0],\n",
       "        [0]])"
      ]
     },
     "execution_count": 8,
     "metadata": {},
     "output_type": "execute_result"
    }
   ],
   "source": [
    "B"
   ]
  },
  {
   "cell_type": "code",
   "execution_count": 9,
   "id": "05060aee",
   "metadata": {},
   "outputs": [
    {
     "data": {
      "text/plain": [
       "matrix([[1, 0, 0]])"
      ]
     },
     "execution_count": 9,
     "metadata": {},
     "output_type": "execute_result"
    }
   ],
   "source": [
    "C"
   ]
  },
  {
   "cell_type": "code",
   "execution_count": 10,
   "id": "bece5107",
   "metadata": {},
   "outputs": [
    {
     "data": {
      "text/plain": [
       "matrix([[1]])"
      ]
     },
     "execution_count": 10,
     "metadata": {},
     "output_type": "execute_result"
    }
   ],
   "source": [
    "R"
   ]
  },
  {
   "cell_type": "code",
   "execution_count": 11,
   "id": "0d675025",
   "metadata": {},
   "outputs": [
    {
     "data": {
      "text/plain": [
       "matrix([[0., 0., 0.],\n",
       "        [0., 0., 0.],\n",
       "        [0., 0., 0.]])"
      ]
     },
     "execution_count": 11,
     "metadata": {},
     "output_type": "execute_result"
    }
   ],
   "source": [
    "Q"
   ]
  },
  {
   "cell_type": "code",
   "execution_count": 12,
   "id": "e31a9f29",
   "metadata": {},
   "outputs": [
    {
     "data": {
      "text/plain": [
       "matrix([[0],\n",
       "        [0],\n",
       "        [0]])"
      ]
     },
     "execution_count": 12,
     "metadata": {},
     "output_type": "execute_result"
    }
   ],
   "source": [
    "x0"
   ]
  },
  {
   "cell_type": "code",
   "execution_count": 13,
   "id": "905aa274",
   "metadata": {},
   "outputs": [
    {
     "data": {
      "text/plain": [
       "matrix([[1., 0., 0.],\n",
       "        [0., 1., 0.],\n",
       "        [0., 0., 1.]])"
      ]
     },
     "execution_count": 13,
     "metadata": {},
     "output_type": "execute_result"
    }
   ],
   "source": [
    "P0"
   ]
  },
  {
   "cell_type": "code",
   "execution_count": 14,
   "id": "e1d7a35e",
   "metadata": {},
   "outputs": [],
   "source": [
    "# time vector for simulation\n",
    "timeVector=np.linspace(0,(numberTimeSteps-1)*h,numberTimeSteps)\n",
    " \n",
    "# vector used to store the simulated position\n",
    "position=np.zeros(np.size(timeVector))\n",
    "velocity=np.zeros(np.size(timeVector))\n",
    " \n",
    "# simulate the system behavior\n",
    "for i in np.arange(np.size(timeVector)):\n",
    "    position[i]=initialPosition+initialVelocity*timeVector[i]+(acceleration*timeVector[i]**2)/2\n",
    "    velocity[i]=initialVelocity+acceleration*timeVector[i]\n",
    "     \n",
    "# add the measurement noise \n",
    "positionNoisy=position+noiseStd*np.random.randn(np.size(timeVector))"
   ]
  },
  {
   "cell_type": "code",
   "execution_count": 15,
   "id": "351d3b3f",
   "metadata": {},
   "outputs": [
    {
     "data": {
      "image/png": "[encoded data removed]",
      "text/plain": [
       "<Figure size 432x288 with 1 Axes>"
      ]
     },
     "metadata": {
      "needs_background": "light"
     },
     "output_type": "display_data"
    }
   ],
   "source": [
    "# verify the position vector by plotting the results\n",
    "plotStep=numberTimeSteps//2\n",
    "plt.plot(timeVector[0:plotStep],position[0:plotStep],linewidth=4, label='Ideal position')\n",
    "plt.plot(timeVector[0:plotStep],positionNoisy[0:plotStep],'r', label='Observed position')\n",
    "plt.xlabel('time')\n",
    "plt.ylabel('position')\n",
    "plt.legend()\n",
    "plt.savefig('data.png',dpi=300)\n",
    "plt.show()"
   ]
  },
  {
   "cell_type": "code",
   "execution_count": 16,
   "id": "664043a6",
   "metadata": {},
   "outputs": [
    {
     "data": {
      "text/plain": [
       "9.034953998675663"
      ]
     },
     "execution_count": 16,
     "metadata": {},
     "output_type": "execute_result"
    }
   ],
   "source": [
    "positionNoisy[0]"
   ]
  },
  {
   "cell_type": "code",
   "execution_count": 35,
   "id": "584a87cc",
   "metadata": {},
   "outputs": [
    {
     "data": {
      "text/plain": [
       "[matrix([[0],\n",
       "         [0],\n",
       "         [0]]),\n",
       " matrix([[5.28436903],\n",
       "         [0.52580786],\n",
       "         [0.0261596 ]]),\n",
       " matrix([[6.53800363],\n",
       "         [0.87935877],\n",
       "         [0.06628082]]),\n",
       " matrix([[7.72101895],\n",
       "         [1.49179318],\n",
       "         [0.17247703]]),\n",
       " matrix([[8.2433016 ],\n",
       "         [1.82032867],\n",
       "         [0.24455074]]),\n",
       " matrix([[9.23622395],\n",
       "         [2.72679925],\n",
       "         [0.49373267]]),\n",
       " matrix([[10.35944313],\n",
       "         [ 3.86164277],\n",
       "         [ 0.8499788 ]]),\n",
       " matrix([[11.12693209],\n",
       "         [ 4.47527932],\n",
       "         [ 1.0449636 ]]),\n",
       " matrix([[11.78975968],\n",
       "         [ 4.88798511],\n",
       "         [ 1.16974762]]),\n",
       " matrix([[12.78202861],\n",
       "         [ 5.74772078],\n",
       "         [ 1.49410416]]),\n",
       " matrix([[13.38135789],\n",
       "         [ 5.92265082],\n",
       "         [ 1.50596225]]),\n",
       " matrix([[14.03738938],\n",
       "         [ 6.15652485],\n",
       "         [ 1.54668889]]),\n",
       " matrix([[14.83640429],\n",
       "         [ 6.56789229],\n",
       "         [ 1.67760193]]),\n",
       " matrix([[15.55420757],\n",
       "         [ 6.81143102],\n",
       "         [ 1.71758131]]),\n",
       " matrix([[16.34702259],\n",
       "         [ 7.12937473],\n",
       "         [ 1.79679824]]),\n",
       " matrix([[17.27237688],\n",
       "         [ 7.5932801 ],\n",
       "         [ 1.95397394]]),\n",
       " matrix([[17.81098712],\n",
       "         [ 7.47122093],\n",
       "         [ 1.77587889]]),\n",
       " matrix([[18.86493576],\n",
       "         [ 8.05358972],\n",
       "         [ 2.0050205 ]]),\n",
       " matrix([[19.43034066],\n",
       "         [ 7.91897251],\n",
       "         [ 1.81451835]]),\n",
       " matrix([[20.31574731],\n",
       "         [ 8.21213889],\n",
       "         [ 1.87801532]]),\n",
       " matrix([[20.66767348],\n",
       "         [ 7.77495783],\n",
       "         [ 1.52417958]]),\n",
       " matrix([[21.17377225],\n",
       "         [ 7.56797557],\n",
       "         [ 1.32217379]]),\n",
       " matrix([[21.56619807],\n",
       "         [ 7.22896933],\n",
       "         [ 1.0599773 ]]),\n",
       " matrix([[22.51021384],\n",
       "         [ 7.60514431],\n",
       "         [ 1.20843819]]),\n",
       " matrix([[23.34603226],\n",
       "         [ 7.81139063],\n",
       "         [ 1.25468863]]),\n",
       " matrix([[23.7156982 ],\n",
       "         [ 7.42983336],\n",
       "         [ 0.98452445]]),\n",
       " matrix([[24.58558392],\n",
       "         [ 7.6739236 ],\n",
       "         [ 1.06077227]]),\n",
       " matrix([[24.98705815],\n",
       "         [ 7.34425548],\n",
       "         [ 0.83686804]]),\n",
       " matrix([[25.77935   ],\n",
       "         [ 7.48985884],\n",
       "         [ 0.86806652]]),\n",
       " matrix([[26.26954346],\n",
       "         [ 7.27858994],\n",
       "         [ 0.72088371]]),\n",
       " matrix([[27.03149717],\n",
       "         [ 7.38458684],\n",
       "         [ 0.73728296]]),\n",
       " matrix([[27.77371408],\n",
       "         [ 7.45839352],\n",
       "         [ 0.73732007]]),\n",
       " matrix([[27.94612172],\n",
       "         [ 6.91412137],\n",
       "         [ 0.45086758]]),\n",
       " matrix([[28.44805474],\n",
       "         [ 6.75780593],\n",
       "         [ 0.35950203]]),\n",
       " matrix([[29.02216643],\n",
       "         [ 6.68716029],\n",
       "         [ 0.31217723]]),\n",
       " matrix([[29.6337516 ],\n",
       "         [ 6.65907856],\n",
       "         [ 0.2864121 ]]),\n",
       " matrix([[30.21303182],\n",
       "         [ 6.60047033],\n",
       "         [ 0.24930946]]),\n",
       " matrix([[30.92618406],\n",
       "         [ 6.67578801],\n",
       "         [ 0.27028273]]),\n",
       " matrix([[31.68906646],\n",
       "         [ 6.79233735],\n",
       "         [ 0.30676206]]),\n",
       " matrix([[32.32825333],\n",
       "         [ 6.78415726],\n",
       "         [ 0.2912585 ]]),\n",
       " matrix([[33.11711454],\n",
       "         [ 6.91317842],\n",
       "         [ 0.3302932 ]]),\n",
       " matrix([[33.89433975],\n",
       "         [ 7.02196155],\n",
       "         [ 0.35928942]]),\n",
       " matrix([[34.75708954],\n",
       "         [ 7.19792655],\n",
       "         [ 0.41180762]]),\n",
       " matrix([[35.66717269],\n",
       "         [ 7.40202485],\n",
       "         [ 0.47168707]]),\n",
       " matrix([[35.97453042],\n",
       "         [ 7.07952703],\n",
       "         [ 0.33849745]]),\n",
       " matrix([[36.44251295],\n",
       "         [ 6.91188922],\n",
       "         [ 0.26731521]]),\n",
       " matrix([[37.25538363],\n",
       "         [ 7.03712847],\n",
       "         [ 0.30144797]]),\n",
       " matrix([[38.1444755 ],\n",
       "         [ 7.21506331],\n",
       "         [ 0.35168679]]),\n",
       " matrix([[39.0271712 ],\n",
       "         [ 7.37608951],\n",
       "         [ 0.39367062]]),\n",
       " matrix([[39.83326143],\n",
       "         [ 7.4670363 ],\n",
       "         [ 0.41055972]]),\n",
       " matrix([[40.53143428],\n",
       "         [ 7.46954974],\n",
       "         [ 0.39816871]]),\n",
       " matrix([[41.49787672],\n",
       "         [ 7.67223353],\n",
       "         [ 0.44959108]]),\n",
       " matrix([[41.99122265],\n",
       "         [ 7.5139434 ],\n",
       "         [ 0.38655144]]),\n",
       " matrix([[42.75599555],\n",
       "         [ 7.56088185],\n",
       "         [ 0.38907588]]),\n",
       " matrix([[43.40849065],\n",
       "         [ 7.52467981],\n",
       "         [ 0.3665779 ]]),\n",
       " matrix([[43.92324011],\n",
       "         [ 7.3936492 ],\n",
       "         [ 0.31719855]]),\n",
       " matrix([[44.79802024],\n",
       "         [ 7.51753406],\n",
       "         [ 0.3438861 ]]),\n",
       " matrix([[45.55102105],\n",
       "         [ 7.55160279],\n",
       "         [ 0.343795  ]]),\n",
       " matrix([[46.45725741],\n",
       "         [ 7.6855993 ],\n",
       "         [ 0.37170678]]),\n",
       " matrix([[47.18449532],\n",
       "         [ 7.69441851],\n",
       "         [ 0.36388985]]),\n",
       " matrix([[48.06981251],\n",
       "         [ 7.80454223],\n",
       "         [ 0.38389944]]),\n",
       " matrix([[48.7152531 ],\n",
       "         [ 7.75575229],\n",
       "         [ 0.36060868]]),\n",
       " matrix([[49.52354291],\n",
       "         [ 7.81119819],\n",
       "         [ 0.3657082 ]]),\n",
       " matrix([[50.35910623],\n",
       "         [ 7.88027603],\n",
       "         [ 0.37413043]]),\n",
       " matrix([[51.22992109],\n",
       "         [ 7.96695079],\n",
       "         [ 0.38670339]]),\n",
       " matrix([[51.91525392],\n",
       "         [ 7.93764282],\n",
       "         [ 0.36960859]]),\n",
       " matrix([[52.83794066],\n",
       "         [ 8.04976232],\n",
       "         [ 0.38823481]]),\n",
       " matrix([[53.50194127],\n",
       "         [ 8.0052472 ],\n",
       "         [ 0.36787712]]),\n",
       " matrix([[54.37318973],\n",
       "         [ 8.08164467],\n",
       "         [ 0.37741613]]),\n",
       " matrix([[55.45210257],\n",
       "         [ 8.27186301],\n",
       "         [ 0.41362409]]),\n",
       " matrix([[56.32659957],\n",
       "         [ 8.33853529],\n",
       "         [ 0.41955155]]),\n",
       " matrix([[57.23771319],\n",
       "         [ 8.42197463],\n",
       "         [ 0.42913489]]),\n",
       " matrix([[57.98546877],\n",
       "         [ 8.4122847 ],\n",
       "         [ 0.417146  ]]),\n",
       " matrix([[58.83036587],\n",
       "         [ 8.4548501 ],\n",
       "         [ 0.41733733]]),\n",
       " matrix([[59.62781884],\n",
       "         [ 8.46999368],\n",
       "         [ 0.41143577]]),\n",
       " matrix([[60.48021098],\n",
       "         [ 8.51288432],\n",
       "         [ 0.41181851]]),\n",
       " matrix([[61.35910659],\n",
       "         [ 8.56727835],\n",
       "         [ 0.41467599]]),\n",
       " matrix([[62.15328964],\n",
       "         [ 8.57574586],\n",
       "         [ 0.40762894]]),\n",
       " matrix([[63.08215378],\n",
       "         [ 8.65143859],\n",
       "         [ 0.41499505]]),\n",
       " matrix([[64.05542069],\n",
       "         [ 8.74577531],\n",
       "         [ 0.42600019]]),\n",
       " matrix([[65.07110292],\n",
       "         [ 8.85678263],\n",
       "         [ 0.44007477]]),\n",
       " matrix([[65.95829788],\n",
       "         [ 8.90045759],\n",
       "         [ 0.44000718]]),\n",
       " matrix([[66.9406629 ],\n",
       "         [ 8.98777147],\n",
       "         [ 0.44870661]]),\n",
       " matrix([[67.80771489],\n",
       "         [ 9.01650654],\n",
       "         [ 0.44550392]]),\n",
       " matrix([[68.64231061],\n",
       "         [ 9.02852654],\n",
       "         [ 0.43912224]]),\n",
       " matrix([[69.53070339],\n",
       "         [ 9.06470772],\n",
       "         [ 0.43762305]]),\n",
       " matrix([[70.3390896 ],\n",
       "         [ 9.06245164],\n",
       "         [ 0.4288008 ]]),\n",
       " matrix([[71.18611481],\n",
       "         [ 9.07748444],\n",
       "         [ 0.42352225]]),\n",
       " matrix([[72.03727931],\n",
       "         [ 9.09349207],\n",
       "         [ 0.41858416]]),\n",
       " matrix([[72.80665229],\n",
       "         [ 9.07228891],\n",
       "         [ 0.40689398]]),\n",
       " matrix([[73.84080629],\n",
       "         [ 9.16781455],\n",
       "         [ 0.41694856]]),\n",
       " matrix([[74.86200251],\n",
       "         [ 9.25395844],\n",
       "         [ 0.42501067]]),\n",
       " matrix([[75.78615573],\n",
       "         [ 9.29501221],\n",
       "         [ 0.42475097]]),\n",
       " matrix([[76.83937942],\n",
       "         [ 9.38919722],\n",
       "         [ 0.4339319 ]]),\n",
       " matrix([[77.75198261],\n",
       "         [ 9.42060255],\n",
       "         [ 0.43182575]]),\n",
       " matrix([[78.61341995],\n",
       "         [ 9.42930645],\n",
       "         [ 0.42583089]]),\n",
       " matrix([[79.61552569],\n",
       "         [ 9.49540703],\n",
       "         [ 0.42987801]]),\n",
       " matrix([[80.53323638],\n",
       "         [ 9.52452799],\n",
       "         [ 0.42751588]]),\n",
       " matrix([[81.64360083],\n",
       "         [ 9.63021496],\n",
       "         [ 0.43812882]]),\n",
       " matrix([[82.79066667],\n",
       "         [ 9.74677263],\n",
       "         [ 0.4502739 ]]),\n",
       " matrix([[83.84916348],\n",
       "         [ 9.82410888],\n",
       "         [ 0.45561487]])]"
      ]
     },
     "execution_count": 35,
     "metadata": {},
     "output_type": "execute_result"
    }
   ],
   "source": [
    "#create a Kalman filter object \n",
    "KalmanFilterObject=KalmanFilter(x0,P0,A,B,C,Q,R)\n",
    "inputValue=np.matrix([[0]])\n",
    "# simulate online prediction\n",
    "for j in np.arange(np.size(timeVector)):\n",
    "    KalmanFilterObject.propagateDynamics(inputValue)\n",
    "    KalmanFilterObject.computeAposterioriEstimate(positionNoisy[j])\n",
    "    \n",
    "KalmanFilterObject.estimates_aposteriori"
   ]
  },
  {
   "cell_type": "code",
   "execution_count": 39,
   "id": "74847150",
   "metadata": {},
   "outputs": [
    {
     "data": {
      "image/png": "[encoded data removed]",
      "text/plain": [
       "<Figure size 720x1080 with 3 Axes>"
      ]
     },
     "metadata": {
      "needs_background": "light"
     },
     "output_type": "display_data"
    }
   ],
   "source": [
    "# extract the state estimates in order to plot the results\n",
    "estimate1=[]\n",
    "estimate2=[]\n",
    "estimate3=[]    \n",
    "for j in np.arange(np.size(timeVector)):\n",
    "    estimate1.append(KalmanFilterObject.estimates_aposteriori[j][0,0])\n",
    "    estimate2.append(KalmanFilterObject.estimates_aposteriori[j][1,0])\n",
    "    estimate3.append(KalmanFilterObject.estimates_aposteriori[j][2,0])\n",
    "     \n",
    "# create vectors corresponding to the true values in order to plot the results\n",
    "estimate1true=position\n",
    "estimate2true=velocity\n",
    "estimate3true=acceleration*np.ones(np.size(timeVector))\n",
    " \n",
    "# plot the results\n",
    "steps=np.arange(np.size(timeVector))\n",
    "fig, ax = plt.subplots(3,1,figsize=(10,15))\n",
    "ax[0].plot(steps,estimate1true,color='red',linestyle='-',linewidth=6,label='True value of position')\n",
    "ax[0].plot(steps,estimate1,color='blue',linestyle='-',linewidth=3,label='Estimate of position')\n",
    "ax[0].plot(steps,positionNoisy,'green', label='Observed position')\n",
    "ax[0].set_xlabel(\"Discrete-time steps k\",fontsize=14)\n",
    "ax[0].set_ylabel(\"Position\",fontsize=14)\n",
    "ax[0].tick_params(axis='both',labelsize=12)\n",
    "#ax[0].set_yscale('log')\n",
    "#ax[0].set_ylim(98,102)  \n",
    "ax[0].grid()\n",
    "ax[0].legend(fontsize=14)\n",
    " \n",
    "ax[1].plot(steps,estimate2true,color='red',linestyle='-',linewidth=6,label='True value of velocity')\n",
    "ax[1].plot(steps,estimate2,color='blue',linestyle='-',linewidth=3,label='Estimate of velocity')\n",
    "ax[1].set_xlabel(\"Discrete-time steps k\",fontsize=14)\n",
    "ax[1].set_ylabel(\"Velocity\",fontsize=14)\n",
    "ax[1].tick_params(axis='both',labelsize=12)\n",
    "#ax[0].set_yscale('log')\n",
    "#ax[1].set_ylim(0,2)  \n",
    "ax[1].grid()\n",
    "ax[1].legend(fontsize=14)\n",
    " \n",
    "ax[2].plot(steps,estimate3true,color='red',linestyle='-',linewidth=6,label='True value of acceleration')\n",
    "ax[2].plot(steps,estimate3,color='blue',linestyle='-',linewidth=3,label='Estimate of acceleration')\n",
    "ax[2].set_xlabel(\"Discrete-time steps k\",fontsize=14)\n",
    "ax[2].set_ylabel(\"Acceleration\",fontsize=14)\n",
    "ax[2].tick_params(axis='both',labelsize=12)\n",
    "#ax[0].set_yscale('log')\n",
    "#ax[1].set_ylim(0,2)  \n",
    "ax[2].grid()\n",
    "ax[2].legend(fontsize=14)\n",
    " \n",
    "plt.show()"
   ]
  },
  {
   "cell_type": "code",
   "execution_count": null,
   "id": "eaec9323",
   "metadata": {},
   "outputs": [],
   "source": []
  }
 ],
 "metadata": {
  "kernelspec": {
   "display_name": "Python 3 (ipykernel)",
   "language": "python",
   "name": "python3"
  },
  "language_info": {
   "codemirror_mode": {
    "name": "ipython",
    "version": 3
   },
   "file_extension": ".py",
   "mimetype": "text/x-python",
   "name": "python",
   "nbconvert_exporter": "python",
   "pygments_lexer": "ipython3",
   "version": "3.9.7"
  }
 },
 "nbformat": 4,
 "nbformat_minor": 5
}
